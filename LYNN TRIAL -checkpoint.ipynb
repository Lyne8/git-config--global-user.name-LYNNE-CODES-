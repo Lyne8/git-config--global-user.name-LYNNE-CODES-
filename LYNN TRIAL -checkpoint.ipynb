{
 "cells": [
  {
   "cell_type": "code",
   "execution_count": 1,
   "id": "88aecf46",
   "metadata": {},
   "outputs": [
    {
     "data": {
      "text/html": [
       "<div>\n",
       "<style scoped>\n",
       "    .dataframe tbody tr th:only-of-type {\n",
       "        vertical-align: middle;\n",
       "    }\n",
       "\n",
       "    .dataframe tbody tr th {\n",
       "        vertical-align: top;\n",
       "    }\n",
       "\n",
       "    .dataframe thead th {\n",
       "        text-align: right;\n",
       "    }\n",
       "</style>\n",
       "<table border=\"1\" class=\"dataframe\">\n",
       "  <thead>\n",
       "    <tr style=\"text-align: right;\">\n",
       "      <th></th>\n",
       "      <th>DISTANCE</th>\n",
       "      <th>HOURS</th>\n",
       "    </tr>\n",
       "  </thead>\n",
       "  <tbody>\n",
       "    <tr>\n",
       "      <th>0</th>\n",
       "      <td>122334</td>\n",
       "      <td>815.560000</td>\n",
       "    </tr>\n",
       "    <tr>\n",
       "      <th>1</th>\n",
       "      <td>23243</td>\n",
       "      <td>154.953333</td>\n",
       "    </tr>\n",
       "    <tr>\n",
       "      <th>2</th>\n",
       "      <td>34454</td>\n",
       "      <td>229.693333</td>\n",
       "    </tr>\n",
       "    <tr>\n",
       "      <th>3</th>\n",
       "      <td>5679</td>\n",
       "      <td>37.860000</td>\n",
       "    </tr>\n",
       "    <tr>\n",
       "      <th>4</th>\n",
       "      <td>23456</td>\n",
       "      <td>156.373333</td>\n",
       "    </tr>\n",
       "    <tr>\n",
       "      <th>5</th>\n",
       "      <td>6785</td>\n",
       "      <td>45.233333</td>\n",
       "    </tr>\n",
       "    <tr>\n",
       "      <th>6</th>\n",
       "      <td>9011</td>\n",
       "      <td>60.073333</td>\n",
       "    </tr>\n",
       "    <tr>\n",
       "      <th>7</th>\n",
       "      <td>1234</td>\n",
       "      <td>8.226667</td>\n",
       "    </tr>\n",
       "    <tr>\n",
       "      <th>8</th>\n",
       "      <td>4590</td>\n",
       "      <td>30.600000</td>\n",
       "    </tr>\n",
       "    <tr>\n",
       "      <th>9</th>\n",
       "      <td>126789</td>\n",
       "      <td>845.260000</td>\n",
       "    </tr>\n",
       "    <tr>\n",
       "      <th>10</th>\n",
       "      <td>12346</td>\n",
       "      <td>82.306667</td>\n",
       "    </tr>\n",
       "    <tr>\n",
       "      <th>11</th>\n",
       "      <td>23432</td>\n",
       "      <td>156.213333</td>\n",
       "    </tr>\n",
       "    <tr>\n",
       "      <th>12</th>\n",
       "      <td>7809</td>\n",
       "      <td>52.060000</td>\n",
       "    </tr>\n",
       "    <tr>\n",
       "      <th>13</th>\n",
       "      <td>10987</td>\n",
       "      <td>73.246667</td>\n",
       "    </tr>\n",
       "    <tr>\n",
       "      <th>14</th>\n",
       "      <td>345098</td>\n",
       "      <td>2300.653333</td>\n",
       "    </tr>\n",
       "    <tr>\n",
       "      <th>15</th>\n",
       "      <td>56784</td>\n",
       "      <td>378.560000</td>\n",
       "    </tr>\n",
       "    <tr>\n",
       "      <th>16</th>\n",
       "      <td>234579</td>\n",
       "      <td>1563.860000</td>\n",
       "    </tr>\n",
       "    <tr>\n",
       "      <th>17</th>\n",
       "      <td>32211</td>\n",
       "      <td>214.740000</td>\n",
       "    </tr>\n",
       "    <tr>\n",
       "      <th>18</th>\n",
       "      <td>11245</td>\n",
       "      <td>74.966667</td>\n",
       "    </tr>\n",
       "    <tr>\n",
       "      <th>19</th>\n",
       "      <td>34589</td>\n",
       "      <td>230.593333</td>\n",
       "    </tr>\n",
       "    <tr>\n",
       "      <th>20</th>\n",
       "      <td>4599</td>\n",
       "      <td>30.660000</td>\n",
       "    </tr>\n",
       "    <tr>\n",
       "      <th>21</th>\n",
       "      <td>4567</td>\n",
       "      <td>30.446667</td>\n",
       "    </tr>\n",
       "    <tr>\n",
       "      <th>22</th>\n",
       "      <td>4564</td>\n",
       "      <td>30.426667</td>\n",
       "    </tr>\n",
       "    <tr>\n",
       "      <th>23</th>\n",
       "      <td>87667</td>\n",
       "      <td>584.446667</td>\n",
       "    </tr>\n",
       "    <tr>\n",
       "      <th>24</th>\n",
       "      <td>4578</td>\n",
       "      <td>30.520000</td>\n",
       "    </tr>\n",
       "    <tr>\n",
       "      <th>25</th>\n",
       "      <td>2456</td>\n",
       "      <td>16.373333</td>\n",
       "    </tr>\n",
       "    <tr>\n",
       "      <th>26</th>\n",
       "      <td>5678</td>\n",
       "      <td>37.853333</td>\n",
       "    </tr>\n",
       "    <tr>\n",
       "      <th>27</th>\n",
       "      <td>46788</td>\n",
       "      <td>311.920000</td>\n",
       "    </tr>\n",
       "    <tr>\n",
       "      <th>28</th>\n",
       "      <td>45567</td>\n",
       "      <td>303.780000</td>\n",
       "    </tr>\n",
       "    <tr>\n",
       "      <th>29</th>\n",
       "      <td>54565</td>\n",
       "      <td>363.766667</td>\n",
       "    </tr>\n",
       "    <tr>\n",
       "      <th>30</th>\n",
       "      <td>4445</td>\n",
       "      <td>29.633333</td>\n",
       "    </tr>\n",
       "    <tr>\n",
       "      <th>31</th>\n",
       "      <td>3865</td>\n",
       "      <td>25.766667</td>\n",
       "    </tr>\n",
       "    <tr>\n",
       "      <th>32</th>\n",
       "      <td>7894</td>\n",
       "      <td>52.626667</td>\n",
       "    </tr>\n",
       "    <tr>\n",
       "      <th>33</th>\n",
       "      <td>3864</td>\n",
       "      <td>25.760000</td>\n",
       "    </tr>\n",
       "    <tr>\n",
       "      <th>34</th>\n",
       "      <td>3976</td>\n",
       "      <td>26.506667</td>\n",
       "    </tr>\n",
       "  </tbody>\n",
       "</table>\n",
       "</div>"
      ],
      "text/plain": [
       "    DISTANCE        HOURS\n",
       "0     122334   815.560000\n",
       "1      23243   154.953333\n",
       "2      34454   229.693333\n",
       "3       5679    37.860000\n",
       "4      23456   156.373333\n",
       "5       6785    45.233333\n",
       "6       9011    60.073333\n",
       "7       1234     8.226667\n",
       "8       4590    30.600000\n",
       "9     126789   845.260000\n",
       "10     12346    82.306667\n",
       "11     23432   156.213333\n",
       "12      7809    52.060000\n",
       "13     10987    73.246667\n",
       "14    345098  2300.653333\n",
       "15     56784   378.560000\n",
       "16    234579  1563.860000\n",
       "17     32211   214.740000\n",
       "18     11245    74.966667\n",
       "19     34589   230.593333\n",
       "20      4599    30.660000\n",
       "21      4567    30.446667\n",
       "22      4564    30.426667\n",
       "23     87667   584.446667\n",
       "24      4578    30.520000\n",
       "25      2456    16.373333\n",
       "26      5678    37.853333\n",
       "27     46788   311.920000\n",
       "28     45567   303.780000\n",
       "29     54565   363.766667\n",
       "30      4445    29.633333\n",
       "31      3865    25.766667\n",
       "32      7894    52.626667\n",
       "33      3864    25.760000\n",
       "34      3976    26.506667"
      ]
     },
     "execution_count": 1,
     "metadata": {},
     "output_type": "execute_result"
    }
   ],
   "source": [
    "import pandas as pd\n",
    "dt= pd.read_csv(\"C:/Users/DAVIS/Documents/Distance-Time.csv\")\n",
    "dt.head(35)"
   ]
  },
  {
   "cell_type": "code",
   "execution_count": 3,
   "id": "96c41e51",
   "metadata": {},
   "outputs": [],
   "source": [
    "import numpy as np\n",
    "x = np.array(dt['HOURS']).reshape(-1,1)\n",
    "y = np.array(dt ['DISTANCE'])\n"
   ]
  },
  {
   "cell_type": "code",
   "execution_count": 7,
   "id": "861432a1",
   "metadata": {},
   "outputs": [
    {
     "data": {
      "text/plain": [
       "array([[ 815.56      ],\n",
       "       [ 154.9533333 ],\n",
       "       [ 229.6933333 ],\n",
       "       [  37.86      ],\n",
       "       [ 156.3733333 ],\n",
       "       [  45.23333333],\n",
       "       [  60.07333333],\n",
       "       [   8.22666667],\n",
       "       [  30.6       ],\n",
       "       [ 845.26      ],\n",
       "       [  82.30666667],\n",
       "       [ 156.2133333 ],\n",
       "       [  52.06      ],\n",
       "       [  73.24666667],\n",
       "       [2300.653333  ]])"
      ]
     },
     "execution_count": 7,
     "metadata": {},
     "output_type": "execute_result"
    }
   ],
   "source": [
    "x[:15]"
   ]
  },
  {
   "cell_type": "code",
   "execution_count": 8,
   "id": "21097c60",
   "metadata": {},
   "outputs": [
    {
     "data": {
      "text/plain": [
       "array([122334,  23243,  34454,   5679,  23456,   6785,   9011,   1234,\n",
       "         4590, 126789,  12346,  23432,   7809,  10987, 345098],\n",
       "      dtype=int64)"
      ]
     },
     "execution_count": 8,
     "metadata": {},
     "output_type": "execute_result"
    }
   ],
   "source": [
    "y[:15]"
   ]
  },
  {
   "cell_type": "code",
   "execution_count": 1,
   "id": "b3549791",
   "metadata": {},
   "outputs": [
    {
     "ename": "NameError",
     "evalue": "name 'dt' is not defined",
     "output_type": "error",
     "traceback": [
      "\u001b[1;31m---------------------------------------------------------------------------\u001b[0m",
      "\u001b[1;31mNameError\u001b[0m                                 Traceback (most recent call last)",
      "Cell \u001b[1;32mIn[1], line 1\u001b[0m\n\u001b[1;32m----> 1\u001b[0m dt[\u001b[38;5;124m'\u001b[39m\u001b[38;5;124mHOURS\u001b[39m\u001b[38;5;124m'\u001b[39m] \u001b[38;5;241m=\u001b[39m dt[\u001b[38;5;124m'\u001b[39m\u001b[38;5;124mHOURS\u001b[39m\u001b[38;5;124m'\u001b[39m]\u001b[38;5;241m.\u001b[39mapply(\u001b[38;5;28;01mlambda\u001b[39;00m x: x\u001b[38;5;241m*\u001b[39m\u001b[38;5;241m60\u001b[39m)\n",
      "\u001b[1;31mNameError\u001b[0m: name 'dt' is not defined"
     ]
    }
   ],
   "source": [
    "x['HOURS'] = x['HOURS'].apply(lambda x: x*60)"
   ]
  },
  {
   "cell_type": "code",
   "execution_count": null,
   "id": "61bd896b",
   "metadata": {},
   "outputs": [],
   "source": []
  },
  {
   "cell_type": "code",
   "execution_count": 11,
   "id": "386e14f9",
   "metadata": {},
   "outputs": [
    {
     "data": {
      "text/plain": [
       "Text(0.5, 1.0, 'DISTANCE-TIME SCATTER')"
      ]
     },
     "execution_count": 11,
     "metadata": {},
     "output_type": "execute_result"
    },
    {
     "data": {
      "image/png": "[encoded data removed]",
      "text/plain": [
       "<Figure size 640x480 with 1 Axes>"
      ]
     },
     "metadata": {},
     "output_type": "display_data"
    }
   ],
   "source": [
    "import matplotlib.pyplot as plt\n",
    "plt.scatter(x,y)\n",
    "plt.title(\"DISTANCE-TIME SCATTER\")\n",
    "plt.x-axis(\"TIME \")\n",
    "\n"
   ]
  },
  {
   "cell_type": "code",
   "execution_count": null,
   "id": "538ae17f",
   "metadata": {},
   "outputs": [],
   "source": []
  }
 ],
 "metadata": {
  "kernelspec": {
   "display_name": "Python 3 (ipykernel)",
   "language": "python",
   "name": "python3"
  },
  "language_info": {
   "codemirror_mode": {
    "name": "ipython",
    "version": 3
   },
   "file_extension": ".py",
   "mimetype": "text/x-python",
   "name": "python",
   "nbconvert_exporter": "python",
   "pygments_lexer": "ipython3",
   "version": "3.11.5"
  }
 },
 "nbformat": 4,
 "nbformat_minor": 5
}
